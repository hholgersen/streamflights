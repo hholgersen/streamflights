{
 "cells": [
  {
   "cell_type": "code",
   "execution_count": 1,
   "metadata": {},
   "outputs": [],
   "source": [
    "import pandas as pd\n",
    "import datetime\n",
    "import pickle\n",
    "import hashlib\n",
    "\n",
    "def pad(s, n=2, fill='0', orientation = 'left'):\n",
    "    fill_n = n-len(fill)\n",
    "    fillstr = fill*fill_n\n",
    "    if orientation == 'left':\n",
    "        retval = fillstr + s\n",
    "    elif orientation == 'right':\n",
    "        retval = s + fillstr\n",
    "    else:\n",
    "        raise ValueError('orientation must be either \\'left\\' or \\'right\\'')\n",
    "    return(retval)"
   ]
  },
  {
   "cell_type": "code",
   "execution_count": 2,
   "metadata": {},
   "outputs": [],
   "source": [
    "flights = pd.read_csv('../data/flights_head.csv', \n",
    "                      dtype = 'str', \n",
    "                      usecols=['YEAR', 'MONTH', 'DAY', 'DEPARTURE_TIME', 'ARRIVAL_TIME',\n",
    "                               'TAIL_NUMBER', 'FLIGHT_NUMBER', 'ORIGIN_AIRPORT',\n",
    "                               'DESTINATION_AIRPORT', 'SCHEDULED_DEPARTURE', 'SCHEDULED_ARRIVAL'])"
   ]
  },
  {
   "cell_type": "code",
   "execution_count": 3,
   "metadata": {},
   "outputs": [],
   "source": [
    "flights['departure_dt'] = flights['YEAR'] + flights['MONTH'].apply(pad) + flights['DAY'].apply(pad) + ' ' + flights['DEPARTURE_TIME'].str[:2] + ':' + flights['DEPARTURE_TIME'].str[2:]\n",
    "\n",
    "flights['id'] = flights['departure_dt'] + flights['TAIL_NUMBER'] + flights['FLIGHT_NUMBER'] \n",
    "flights['id'] = flights['id'].apply(lambda x: hashlib.md5(str(x).encode('utf-8')).hexdigest()   )\n",
    "\n",
    "flights['departure_dt'] = pd.to_datetime(flights['departure_dt'], format = '%Y%m%d %H:%M', errors='ignore')\n",
    "flights_out = (flights[[ 'id', 'FLIGHT_NUMBER', 'TAIL_NUMBER', 'ORIGIN_AIRPORT', \n",
    "                       'DESTINATION_AIRPORT', 'SCHEDULED_DEPARTURE', 'SCHEDULED_ARRIVAL', 'departure_dt']]\n",
    "               .dropna())"
   ]
  },
  {
   "cell_type": "code",
   "execution_count": 4,
   "metadata": {},
   "outputs": [
    {
     "data": {
      "text/html": [
       "<div>\n",
       "<style scoped>\n",
       "    .dataframe tbody tr th:only-of-type {\n",
       "        vertical-align: middle;\n",
       "    }\n",
       "\n",
       "    .dataframe tbody tr th {\n",
       "        vertical-align: top;\n",
       "    }\n",
       "\n",
       "    .dataframe thead th {\n",
       "        text-align: right;\n",
       "    }\n",
       "</style>\n",
       "<table border=\"1\" class=\"dataframe\">\n",
       "  <thead>\n",
       "    <tr style=\"text-align: right;\">\n",
       "      <th></th>\n",
       "      <th>id</th>\n",
       "      <th>FLIGHT_NUMBER</th>\n",
       "      <th>TAIL_NUMBER</th>\n",
       "      <th>ORIGIN_AIRPORT</th>\n",
       "      <th>DESTINATION_AIRPORT</th>\n",
       "      <th>SCHEDULED_DEPARTURE</th>\n",
       "      <th>SCHEDULED_ARRIVAL</th>\n",
       "      <th>departure_dt</th>\n",
       "    </tr>\n",
       "  </thead>\n",
       "  <tbody>\n",
       "    <tr>\n",
       "      <th>0</th>\n",
       "      <td>8b398ee0ce30cb8bb45551ba0a221948</td>\n",
       "      <td>98</td>\n",
       "      <td>N407AS</td>\n",
       "      <td>ANC</td>\n",
       "      <td>SEA</td>\n",
       "      <td>0005</td>\n",
       "      <td>0430</td>\n",
       "      <td>2015-01-01 23:54:00</td>\n",
       "    </tr>\n",
       "    <tr>\n",
       "      <th>1</th>\n",
       "      <td>21dfc7e316a52f9b392b5495032f4cfa</td>\n",
       "      <td>2336</td>\n",
       "      <td>N3KUAA</td>\n",
       "      <td>LAX</td>\n",
       "      <td>PBI</td>\n",
       "      <td>0010</td>\n",
       "      <td>0750</td>\n",
       "      <td>2015-01-01 00:02:00</td>\n",
       "    </tr>\n",
       "    <tr>\n",
       "      <th>2</th>\n",
       "      <td>34880168b561e11bc7f2af09364f0241</td>\n",
       "      <td>840</td>\n",
       "      <td>N171US</td>\n",
       "      <td>SFO</td>\n",
       "      <td>CLT</td>\n",
       "      <td>0020</td>\n",
       "      <td>0806</td>\n",
       "      <td>2015-01-01 00:18:00</td>\n",
       "    </tr>\n",
       "    <tr>\n",
       "      <th>3</th>\n",
       "      <td>07629bfe57e362fb5f30cf7975e7ffe4</td>\n",
       "      <td>258</td>\n",
       "      <td>N3HYAA</td>\n",
       "      <td>LAX</td>\n",
       "      <td>MIA</td>\n",
       "      <td>0020</td>\n",
       "      <td>0805</td>\n",
       "      <td>2015-01-01 00:15:00</td>\n",
       "    </tr>\n",
       "    <tr>\n",
       "      <th>4</th>\n",
       "      <td>da272f1a5d7b875310f1063697c3e354</td>\n",
       "      <td>135</td>\n",
       "      <td>N527AS</td>\n",
       "      <td>SEA</td>\n",
       "      <td>ANC</td>\n",
       "      <td>0025</td>\n",
       "      <td>0320</td>\n",
       "      <td>2015-01-01 00:24:00</td>\n",
       "    </tr>\n",
       "  </tbody>\n",
       "</table>\n",
       "</div>"
      ],
      "text/plain": [
       "                                 id FLIGHT_NUMBER TAIL_NUMBER ORIGIN_AIRPORT  \\\n",
       "0  8b398ee0ce30cb8bb45551ba0a221948            98      N407AS            ANC   \n",
       "1  21dfc7e316a52f9b392b5495032f4cfa          2336      N3KUAA            LAX   \n",
       "2  34880168b561e11bc7f2af09364f0241           840      N171US            SFO   \n",
       "3  07629bfe57e362fb5f30cf7975e7ffe4           258      N3HYAA            LAX   \n",
       "4  da272f1a5d7b875310f1063697c3e354           135      N527AS            SEA   \n",
       "\n",
       "  DESTINATION_AIRPORT SCHEDULED_DEPARTURE SCHEDULED_ARRIVAL  \\\n",
       "0                 SEA                0005              0430   \n",
       "1                 PBI                0010              0750   \n",
       "2                 CLT                0020              0806   \n",
       "3                 MIA                0020              0805   \n",
       "4                 ANC                0025              0320   \n",
       "\n",
       "         departure_dt  \n",
       "0 2015-01-01 23:54:00  \n",
       "1 2015-01-01 00:02:00  \n",
       "2 2015-01-01 00:18:00  \n",
       "3 2015-01-01 00:15:00  \n",
       "4 2015-01-01 00:24:00  "
      ]
     },
     "execution_count": 4,
     "metadata": {},
     "output_type": "execute_result"
    }
   ],
   "source": [
    "flights_out.head()"
   ]
  },
  {
   "cell_type": "code",
   "execution_count": 5,
   "metadata": {},
   "outputs": [],
   "source": [
    "flights_out = flights_out.sort_values(by='departure_dt', ascending=True)"
   ]
  },
  {
   "cell_type": "code",
   "execution_count": 6,
   "metadata": {},
   "outputs": [],
   "source": [
    "flightdict = flights_out.to_dict( orient='row')"
   ]
  },
  {
   "cell_type": "code",
   "execution_count": 7,
   "metadata": {},
   "outputs": [],
   "source": [
    "departures = open('../data/departures.pickle', 'wb')\n",
    "\n",
    "pickle.dump(flightdict, departures)\n",
    "\n",
    "departures.close()"
   ]
  },
  {
   "cell_type": "code",
   "execution_count": null,
   "metadata": {},
   "outputs": [],
   "source": []
  },
  {
   "cell_type": "code",
   "execution_count": 8,
   "metadata": {},
   "outputs": [],
   "source": [
    "flights['arrival_dt'] = flights['YEAR'] + flights['MONTH'].apply(pad) + flights['DAY'].apply(pad) + ' ' + flights['ARRIVAL_TIME'].str[:2] + ':' + flights['ARRIVAL_TIME'].str[2:]\n",
    "flights['arrival_dt'] = pd.to_datetime(flights['departure_dt'], format = '%Y%m%d %H:%M', errors='ignore')\n",
    "\n",
    "flights_in = (\n",
    "    flights[[ 'id', 'FLIGHT_NUMBER', 'TAIL_NUMBER', 'ORIGIN_AIRPORT', \n",
    "            'DESTINATION_AIRPORT', 'SCHEDULED_DEPARTURE', 'SCHEDULED_ARRIVAL', 'arrival_dt']]\n",
    "    .dropna()\n",
    "    .sort_values(by='arrival_dt', ascending=True)\n",
    ")"
   ]
  },
  {
   "cell_type": "code",
   "execution_count": 9,
   "metadata": {},
   "outputs": [],
   "source": [
    "flightdict = flights_in.to_dict( orient='row')"
   ]
  },
  {
   "cell_type": "code",
   "execution_count": 10,
   "metadata": {},
   "outputs": [],
   "source": [
    "arrivals = open('../data/arrivals.pickle', 'wb')\n",
    "\n",
    "pickle.dump(flightdict, arrivals)\n",
    "\n",
    "arrivals.close()\n"
   ]
  },
  {
   "cell_type": "code",
   "execution_count": null,
   "metadata": {},
   "outputs": [],
   "source": []
  }
 ],
 "metadata": {
  "kernelspec": {
   "display_name": "Python 3",
   "language": "python",
   "name": "python3"
  },
  "language_info": {
   "codemirror_mode": {
    "name": "ipython",
    "version": 3
   },
   "file_extension": ".py",
   "mimetype": "text/x-python",
   "name": "python",
   "nbconvert_exporter": "python",
   "pygments_lexer": "ipython3",
   "version": "3.7.6"
  }
 },
 "nbformat": 4,
 "nbformat_minor": 4
}
