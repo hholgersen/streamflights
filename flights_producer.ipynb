{
 "cells": [
  {
   "cell_type": "code",
   "execution_count": null,
   "metadata": {},
   "outputs": [],
   "source": [
    "import pickle\n",
    "import queue\n",
    "import datetime\n",
    "import dateutil\n",
    "from time import sleep\n",
    "from dateutil.relativedelta import relativedelta\n",
    "from kafka import KafkaProducer\n",
    "from json import dumps"
   ]
  },
  {
   "cell_type": "code",
   "execution_count": null,
   "metadata": {},
   "outputs": [],
   "source": [
    "class custom_clock():\n",
    "    import datetime\n",
    "    \n",
    "    def __init__(self, starttime = datetime.datetime.now()):\n",
    "        self.invocation_time = datetime.datetime.now()\n",
    "        self.starttime = starttime\n",
    "    \n",
    "    def get_time(self):\n",
    "        elapsed = datetime.datetime.now() - self.invocation_timeW\n",
    "        return(self.starttime + elapsed)"
   ]
  },
  {
   "cell_type": "code",
   "execution_count": null,
   "metadata": {},
   "outputs": [],
   "source": [
    "handle = open('data/departures.pickle', 'rb')\n",
    "departures = pickle.load(handle)"
   ]
  },
  {
   "cell_type": "code",
   "execution_count": null,
   "metadata": {},
   "outputs": [],
   "source": [
    "q = queue.Queue()"
   ]
  },
  {
   "cell_type": "code",
   "execution_count": null,
   "metadata": {},
   "outputs": [],
   "source": [
    "for i in departures:\n",
    "    q.put(i)\n"
   ]
  },
  {
   "cell_type": "code",
   "execution_count": null,
   "metadata": {},
   "outputs": [],
   "source": [
    "q.qsize()"
   ]
  },
  {
   "cell_type": "code",
   "execution_count": null,
   "metadata": {},
   "outputs": [],
   "source": [
    "d = datetime.datetime.strptime('20200101 06:15:56', '%Y%m%d %H:%M:%S')\n",
    "\n",
    "str(d)"
   ]
  },
  {
   "cell_type": "code",
   "execution_count": null,
   "metadata": {},
   "outputs": [],
   "source": [
    "\n",
    "producer = KafkaProducer(\n",
    "   value_serializer=lambda m: dumps(m).encode('utf-8'), \n",
    "   bootstrap_servers=['kafka:9093'])\n",
    "\n",
    "\n",
    "DATA_YEAR = 2015\n",
    "\n",
    "clock = custom_clock(datetime.datetime.strptime('20200101 06:15:56', '%Y%m%d %H:%M:%S'))\n",
    "years_to_add = clock.get_time().year - DATA_YEAR\n",
    "years_delta = dateutil.relativedelta.relativedelta(years=years_to_add)\n",
    "\n",
    "while not q.empty():\n",
    "    departure = q.get()\n",
    "    departure['departure_dt'] = departure['departure_dt'] + years_delta\n",
    "    wait =  (departure['departure_dt'] - clock.get_time()).total_seconds()\n",
    "    departure['departure_dt'] = str(departure['departure_dt'])\n",
    "    keybite = bytes(departure['id'], encoding='utf-8')\n",
    "    if wait>=0:\n",
    "        try:\n",
    "            print(departure)\n",
    "            sleep(wait)\n",
    "            producer.send(\"departures\", key=keybite, value=departure)\n",
    "            producer.flush()\n",
    "            \n",
    "        except:\n",
    "            pass\n",
    "            "
   ]
  },
  {
   "cell_type": "code",
   "execution_count": 1,
   "metadata": {},
   "outputs": [],
   "source": [
    "import dateutil"
   ]
  },
  {
   "cell_type": "code",
   "execution_count": 2,
   "metadata": {},
   "outputs": [
    {
     "data": {
      "text/plain": [
       "relativedelta(years=+3)"
      ]
     },
     "execution_count": 2,
     "metadata": {},
     "output_type": "execute_result"
    }
   ],
   "source": [
    "dateutil.relativedelta.relativedelta(years=3)"
   ]
  },
  {
   "cell_type": "code",
   "execution_count": 9,
   "metadata": {},
   "outputs": [],
   "source": [
    "def let_go():\n",
    "\n",
    "    some_data = [1, 2, 3, 4, 5]\n",
    "\n",
    "    for eml in some_data:\n",
    "        yield eml\n"
   ]
  },
  {
   "cell_type": "code",
   "execution_count": 10,
   "metadata": {},
   "outputs": [],
   "source": [
    "a = let_go()"
   ]
  },
  {
   "cell_type": "code",
   "execution_count": 14,
   "metadata": {},
   "outputs": [
    {
     "data": {
      "text/plain": [
       "4"
      ]
     },
     "execution_count": 14,
     "metadata": {},
     "output_type": "execute_result"
    }
   ],
   "source": [
    "next(a)"
   ]
  },
  {
   "cell_type": "code",
   "execution_count": 17,
   "metadata": {},
   "outputs": [
    {
     "name": "stdout",
     "output_type": "stream",
     "text": [
      "total 60K\r\n",
      "drwxr-xr-x 19 jovyan users  608 May 22 18:21 .\r\n",
      "drwxr-xr-x  1 root   root  4.0K May  3 13:42 ..\r\n",
      "-rw-------  1 jovyan users   53 May 21 17:26 .bash_history\r\n",
      "drwxr-xr-x  5 jovyan users  160 May 21 17:17 .cache\r\n",
      "drwxr-xr-x  3 jovyan users   96 May 21 10:39 .config\r\n",
      "drwxr-xr-x  8 jovyan users  256 May 21 15:32 data\r\n",
      "-rw-r--r--  1 jovyan users  902 May 21 16:58 docker-compose.yaml\r\n",
      "-rw-r--r--  1 jovyan users 8.1K May 22 16:18 .DS_Store\r\n",
      "-rw-r--r--  1 jovyan users 4.3K May 22 18:21 flights_producer.ipynb\r\n",
      "drwxr-xr-x 12 jovyan users  384 May 22 18:15 .git\r\n",
      "-rw-r--r--  1 jovyan users 2.1K May 22 18:13 .gitignore\r\n",
      "drwxr-xr-x  4 jovyan users  128 May 21 18:24 .ipynb_checkpoints\r\n",
      "drwxr-xr-x  5 jovyan users  160 May 21 10:36 .ipython\r\n",
      "drwxr-xr-x  3 jovyan users   96 May 21 17:21 .jupyter\r\n",
      "-rw-r--r--  1 jovyan users  19K May 22 17:51 _kafka_jottings.ipynb\r\n",
      "drwxr-xr-x  3 jovyan users   96 May 21 10:25 .local\r\n",
      "drwxr-xr-x  5 jovyan users  160 May 22 17:38 make_data\r\n",
      "drwxr-xr-x  7 jovyan users  224 May 22 18:15 python_producer_image\r\n",
      "-rw-r--r--  1 jovyan users  555 May 21 09:44 README.md\r\n"
     ]
    }
   ],
   "source": [
    "!ls -hal"
   ]
  },
  {
   "cell_type": "code",
   "execution_count": 18,
   "metadata": {},
   "outputs": [],
   "source": [
    "def threeletters():\n",
    "    with open(\"bigfile.txt\") as f:\n",
    "        for line in f:\n",
    "            yield line"
   ]
  },
  {
   "cell_type": "code",
   "execution_count": 19,
   "metadata": {},
   "outputs": [],
   "source": [
    "l = threeletters()"
   ]
  },
  {
   "cell_type": "code",
   "execution_count": 25,
   "metadata": {},
   "outputs": [
    {
     "ename": "StopIteration",
     "evalue": "",
     "output_type": "error",
     "traceback": [
      "\u001b[0;31m---------------------------------------------------------------------------\u001b[0m",
      "\u001b[0;31mStopIteration\u001b[0m                             Traceback (most recent call last)",
      "\u001b[0;32m<ipython-input-25-cdc8a39da60d>\u001b[0m in \u001b[0;36m<module>\u001b[0;34m\u001b[0m\n\u001b[0;32m----> 1\u001b[0;31m \u001b[0mnext\u001b[0m\u001b[0;34m(\u001b[0m\u001b[0ml\u001b[0m\u001b[0;34m)\u001b[0m\u001b[0;34m\u001b[0m\u001b[0;34m\u001b[0m\u001b[0m\n\u001b[0m",
      "\u001b[0;31mStopIteration\u001b[0m: "
     ]
    }
   ],
   "source": [
    "next(l)"
   ]
  },
  {
   "cell_type": "code",
   "execution_count": 26,
   "metadata": {},
   "outputs": [
    {
     "name": "stdout",
     "output_type": "stream",
     "text": [
      "/home/jovyan\r\n"
     ]
    }
   ],
   "source": [
    "!pwd"
   ]
  },
  {
   "cell_type": "code",
   "execution_count": 27,
   "metadata": {},
   "outputs": [],
   "source": [
    "def flightsgenerator(filepath):\n",
    "    with open(filepath) as f:\n",
    "        for line in f:\n",
    "            yield line"
   ]
  },
  {
   "cell_type": "code",
   "execution_count": 28,
   "metadata": {},
   "outputs": [],
   "source": [
    "flight = flightsgenerator('python_producer_image/flights/arrivals.txt')"
   ]
  },
  {
   "cell_type": "code",
   "execution_count": 32,
   "metadata": {},
   "outputs": [
    {
     "data": {
      "text/plain": [
       "'{\"id\": \"e3434fa3018c75928214ea6303b1c59c\", \"FLIGHT_NUMBER\": \"2342\", \"TAIL_NUMBER\": \"N3KLAA\", \"ORIGIN_AIRPORT\": \"11292\", \"DESTINATION_AIRPORT\": \"13303\", \"SCHEDULED_DEPARTURE\": \"2359\", \"SCHEDULED_ARRIVAL\": \"0547\", \"arrival_dt\": \"201501001 00:03\"}\\n'"
      ]
     },
     "execution_count": 32,
     "metadata": {},
     "output_type": "execute_result"
    }
   ],
   "source": [
    "next(flight)"
   ]
  },
  {
   "cell_type": "code",
   "execution_count": null,
   "metadata": {},
   "outputs": [],
   "source": []
  }
 ],
 "metadata": {
  "kernelspec": {
   "display_name": "Python 3",
   "language": "python",
   "name": "python3"
  },
  "language_info": {
   "codemirror_mode": {
    "name": "ipython",
    "version": 3
   },
   "file_extension": ".py",
   "mimetype": "text/x-python",
   "name": "python",
   "nbconvert_exporter": "python",
   "pygments_lexer": "ipython3",
   "version": "3.7.6"
  }
 },
 "nbformat": 4,
 "nbformat_minor": 4
}
