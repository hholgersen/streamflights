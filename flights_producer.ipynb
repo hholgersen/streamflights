{
 "cells": [
  {
   "cell_type": "code",
   "execution_count": null,
   "metadata": {},
   "outputs": [],
   "source": [
    "import pickle\n",
    "import queue\n",
    "import datetime\n",
    "import dateutil\n",
    "from time import sleep\n",
    "from dateutil.relativedelta import relativedelta\n",
    "from kafka import KafkaProducer\n",
    "from json import dumps"
   ]
  },
  {
   "cell_type": "code",
   "execution_count": null,
   "metadata": {},
   "outputs": [],
   "source": [
    "class custom_clock():\n",
    "    import datetime\n",
    "    \n",
    "    def __init__(self, starttime = datetime.datetime.now()):\n",
    "        self.invocation_time = datetime.datetime.now()\n",
    "        self.starttime = starttime\n",
    "    \n",
    "    def get_time(self):\n",
    "        elapsed = datetime.datetime.now() - self.invocation_timeW\n",
    "        return(self.starttime + elapsed)"
   ]
  },
  {
   "cell_type": "code",
   "execution_count": null,
   "metadata": {},
   "outputs": [],
   "source": [
    "handle = open('data/departures.pickle', 'rb')\n",
    "departures = pickle.load(handle)"
   ]
  },
  {
   "cell_type": "code",
   "execution_count": null,
   "metadata": {},
   "outputs": [],
   "source": [
    "q = queue.Queue()"
   ]
  },
  {
   "cell_type": "code",
   "execution_count": null,
   "metadata": {},
   "outputs": [],
   "source": [
    "for i in departures:\n",
    "    q.put(i)\n"
   ]
  },
  {
   "cell_type": "code",
   "execution_count": null,
   "metadata": {},
   "outputs": [],
   "source": [
    "q.qsize()"
   ]
  },
  {
   "cell_type": "code",
   "execution_count": null,
   "metadata": {},
   "outputs": [],
   "source": [
    "d = datetime.datetime.strptime('20200101 06:15:56', '%Y%m%d %H:%M:%S')\n",
    "\n",
    "str(d)"
   ]
  },
  {
   "cell_type": "code",
   "execution_count": null,
   "metadata": {},
   "outputs": [],
   "source": [
    "\n",
    "producer = KafkaProducer(\n",
    "   value_serializer=lambda m: dumps(m).encode('utf-8'), \n",
    "   bootstrap_servers=['kafka:9093'])\n",
    "\n",
    "\n",
    "DATA_YEAR = 2015\n",
    "\n",
    "clock = custom_clock(datetime.datetime.strptime('20200101 06:15:56', '%Y%m%d %H:%M:%S'))\n",
    "years_to_add = clock.get_time().year - DATA_YEAR\n",
    "years_delta = dateutil.relativedelta.relativedelta(years=years_to_add)\n",
    "\n",
    "while not q.empty():\n",
    "    departure = q.get()\n",
    "    departure['departure_dt'] = departure['departure_dt'] + years_delta\n",
    "    wait =  (departure['departure_dt'] - clock.get_time()).total_seconds()\n",
    "    departure['departure_dt'] = str(departure['departure_dt'])\n",
    "    keybite = bytes(departure['id'], encoding='utf-8')\n",
    "    if wait>=0:\n",
    "        try:\n",
    "            print(departure)\n",
    "            sleep(wait)\n",
    "            producer.send(\"departures\", key=keybite, value=departure)\n",
    "            producer.flush()\n",
    "            \n",
    "        except:\n",
    "            pass\n",
    "            "
   ]
  },
  {
   "cell_type": "code",
   "execution_count": null,
   "metadata": {},
   "outputs": [],
   "source": []
  }
 ],
 "metadata": {
  "kernelspec": {
   "display_name": "Python 3",
   "language": "python",
   "name": "python3"
  },
  "language_info": {
   "codemirror_mode": {
    "name": "ipython",
    "version": 3
   },
   "file_extension": ".py",
   "mimetype": "text/x-python",
   "name": "python",
   "nbconvert_exporter": "python",
   "pygments_lexer": "ipython3",
   "version": "3.7.6"
  }
 },
 "nbformat": 4,
 "nbformat_minor": 4
}
